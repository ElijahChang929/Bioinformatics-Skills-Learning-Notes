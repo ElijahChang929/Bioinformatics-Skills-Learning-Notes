{
 "cells": [
  {
   "cell_type": "markdown",
   "metadata": {},
   "source": [
    "# scRNA-seq data illustration\n",
    "author: Guangxin Zhang\n",
    "\n",
    "To evaluate scGPT's proficiency in detecting the alterations within Gene Regulatory Networks (GRN) during cell fate reprogramming, it is essential to utilize a benchmark dataset.\n",
    "\n",
    "The scRNA-seq dataset featured in the publication \"Single-Cell RNA-Seq Reveals Dynamic Early Embryonic-like Programs during Chemical Reprogramming\" from Cell Stem Cell, Volume 18, serves as an appropriate reference. This dataset encompasses sequencing data from 36,199 individual cells captured at 12 distinct time points across the reprogramming continuum. Each cell, on average, presents data for 4,378 genes and yields 82,255 reads that are mapped with high confidence.\n",
    "\n",
    "<div style=\"text-align: center;\">\n",
    "    <img src=\"./pic/design.png\" alt=\"image\" style=\"width: 60%;\"/>\n",
    "</div>\n",
    "\n",
    "\n",
    "963, 3,824, 4,739, 1,068, 2,367, 2,763, 3,729, 2,879, 2,366,\n",
    "3,530, 3,377, and 4,594 cells were analyzed for MEFs, SI D5, SI D12, XEN-like cells, SII D8, SII D12, SIII D3, SIII D6, SIII D8, SIII D10, SIII D15, and SIII D21, respectively.\n"
   ]
  },
  {
   "cell_type": "markdown",
   "metadata": {},
   "source": [
    "# Detailed Information\n",
    "\n",
    "The dataset has been successfully uploaded to the 'data/' (the corresponding image is called 'scGPT_with_data') directory, comprising the following components essential for scRNA-seq data analysis:\n",
    "\n",
    "fData.csv: This file encapsulates the feature data, detailing gene expression profiles.\n",
    "\n",
    "matrix.RData: Serialized within this R data file is a sparse matrix, an optimized storage solution for the gene expression data spanning numerous individual cells. This format is particularly adept at managing the extensive prevalence of zero values inherent in scRNA-seq data, arising from the non-expression of many genes across a multitude of cells.\n",
    "\n",
    "pData.csv: This additional CSV file is the repository of the phenotypic data, constituting the metadata corresponding to each cell or sample within the study."
   ]
  },
  {
   "cell_type": "markdown",
   "metadata": {},
   "source": [
    "## Reference\n",
    "\n",
    "\n",
    "[1] Zhao, T., Fu, Y., Zhu, J., Liu, Y., Zhang, Q., Yi, Z., ... & Deng, H. (2018). Single-cell RNA-seq reveals dynamic early embryonic-like programs during chemical reprogramming. Cell stem cell, 23(1), 31-45."
   ]
  }
 ],
 "metadata": {
  "kernelspec": {
   "display_name": "scanpy",
   "language": "python",
   "name": "python3"
  },
  "language_info": {
   "codemirror_mode": {
    "name": "ipython",
    "version": 3
   },
   "file_extension": ".py",
   "mimetype": "text/x-python",
   "name": "python",
   "nbconvert_exporter": "python",
   "pygments_lexer": "ipython3",
   "version": "3.10.13"
  }
 },
 "nbformat": 4,
 "nbformat_minor": 2
}
